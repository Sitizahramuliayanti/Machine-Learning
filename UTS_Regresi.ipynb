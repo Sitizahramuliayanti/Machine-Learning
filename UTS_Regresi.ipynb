{
 "cells": [
  {
   "cell_type": "markdown",
   "id": "15abbe32",
   "metadata": {},
   "source": [
    "### Import Library\n",
    "\n",
    "##### pandas = untuk manipulasi dan analisis data\n",
    "##### numpy = memberikan dukungan untuk array dan matriks besar multidimensional\n",
    "##### matplotlib = untuk visualisasi data di Python\n",
    "##### sklearn-learn = menyediakan berbagai algoritma machine learning, termasuk regresi linier (LinearRegression yang diimpor dari sklearn.linear_model), untuk memprediksi hubungan antara variabel terikat dan variabel bebas dalam data"
   ]
  },
  {
   "cell_type": "code",
   "execution_count": 1,
   "id": "b3440a1a",
   "metadata": {},
   "outputs": [],
   "source": [
    "import pandas as pd\n",
    "import numpy as np\n",
    "import matplotlib.pyplot as plt\n",
    "from sklearn.linear_model import LinearRegression"
   ]
  },
  {
   "cell_type": "code",
   "execution_count": 2,
   "id": "30552f4b",
   "metadata": {},
   "outputs": [
    {
     "data": {
      "text/html": [
       "<div>\n",
       "<style scoped>\n",
       "    .dataframe tbody tr th:only-of-type {\n",
       "        vertical-align: middle;\n",
       "    }\n",
       "\n",
       "    .dataframe tbody tr th {\n",
       "        vertical-align: top;\n",
       "    }\n",
       "\n",
       "    .dataframe thead th {\n",
       "        text-align: right;\n",
       "    }\n",
       "</style>\n",
       "<table border=\"1\" class=\"dataframe\">\n",
       "  <thead>\n",
       "    <tr style=\"text-align: right;\">\n",
       "      <th></th>\n",
       "      <th>Corruption Perception (X)</th>\n",
       "      <th>Government Transparency (Y)</th>\n",
       "    </tr>\n",
       "  </thead>\n",
       "  <tbody>\n",
       "    <tr>\n",
       "      <th>0</th>\n",
       "      <td>3.2</td>\n",
       "      <td>65</td>\n",
       "    </tr>\n",
       "    <tr>\n",
       "      <th>1</th>\n",
       "      <td>2.5</td>\n",
       "      <td>72</td>\n",
       "    </tr>\n",
       "    <tr>\n",
       "      <th>2</th>\n",
       "      <td>4.1</td>\n",
       "      <td>58</td>\n",
       "    </tr>\n",
       "    <tr>\n",
       "      <th>3</th>\n",
       "      <td>2.8</td>\n",
       "      <td>68</td>\n",
       "    </tr>\n",
       "    <tr>\n",
       "      <th>4</th>\n",
       "      <td>3.5</td>\n",
       "      <td>60</td>\n",
       "    </tr>\n",
       "  </tbody>\n",
       "</table>\n",
       "</div>"
      ],
      "text/plain": [
       "   Corruption Perception (X)  Government Transparency (Y)\n",
       "0                        3.2                           65\n",
       "1                        2.5                           72\n",
       "2                        4.1                           58\n",
       "3                        2.8                           68\n",
       "4                        3.5                           60"
      ]
     },
     "execution_count": 2,
     "metadata": {},
     "output_type": "execute_result"
    }
   ],
   "source": [
    "# Memasukkan dataset\n",
    "# Menampilkan 5 data pertama\n",
    "dataset = pd.read_csv('R04_corruptions.csv')\n",
    "dataset.head()"
   ]
  },
  {
   "cell_type": "markdown",
   "id": "b5eff722",
   "metadata": {},
   "source": [
    "#### Kolom \"Corruption Perception (X)\" berisi nilai-nilai yang mewakili tingkat persepsi korupsi. Kolom \"Government Transparency (Y)\" berisi nilai-nilai yang mewakili tingkat transparansi pemerintahan yang menunjukkan seberapa transparan atau terbuka pemerintahan dalam praktiknya"
   ]
  },
  {
   "cell_type": "code",
   "execution_count": 3,
   "id": "fb385996",
   "metadata": {},
   "outputs": [
    {
     "name": "stdout",
     "output_type": "stream",
     "text": [
      "<class 'pandas.core.frame.DataFrame'>\n",
      "RangeIndex: 55 entries, 0 to 54\n",
      "Data columns (total 2 columns):\n",
      " #   Column                       Non-Null Count  Dtype  \n",
      "---  ------                       --------------  -----  \n",
      " 0   Corruption Perception (X)    55 non-null     float64\n",
      " 1   Government Transparency (Y)  55 non-null     int64  \n",
      "dtypes: float64(1), int64(1)\n",
      "memory usage: 1008.0 bytes\n"
     ]
    }
   ],
   "source": [
    "# Menampilkan info dari dataset\n",
    "dataset.info()"
   ]
  },
  {
   "cell_type": "code",
   "execution_count": 4,
   "id": "e5a8ab79",
   "metadata": {},
   "outputs": [
    {
     "data": {
      "text/html": [
       "<div>\n",
       "<style scoped>\n",
       "    .dataframe tbody tr th:only-of-type {\n",
       "        vertical-align: middle;\n",
       "    }\n",
       "\n",
       "    .dataframe tbody tr th {\n",
       "        vertical-align: top;\n",
       "    }\n",
       "\n",
       "    .dataframe thead th {\n",
       "        text-align: right;\n",
       "    }\n",
       "</style>\n",
       "<table border=\"1\" class=\"dataframe\">\n",
       "  <thead>\n",
       "    <tr style=\"text-align: right;\">\n",
       "      <th></th>\n",
       "      <th>Corruption Perception (X)</th>\n",
       "      <th>Government Transparency (Y)</th>\n",
       "    </tr>\n",
       "  </thead>\n",
       "  <tbody>\n",
       "    <tr>\n",
       "      <th>Corruption Perception (X)</th>\n",
       "      <td>1.000000</td>\n",
       "      <td>-0.920063</td>\n",
       "    </tr>\n",
       "    <tr>\n",
       "      <th>Government Transparency (Y)</th>\n",
       "      <td>-0.920063</td>\n",
       "      <td>1.000000</td>\n",
       "    </tr>\n",
       "  </tbody>\n",
       "</table>\n",
       "</div>"
      ],
      "text/plain": [
       "                             Corruption Perception (X)  \\\n",
       "Corruption Perception (X)                     1.000000   \n",
       "Government Transparency (Y)                  -0.920063   \n",
       "\n",
       "                             Government Transparency (Y)  \n",
       "Corruption Perception (X)                      -0.920063  \n",
       "Government Transparency (Y)                     1.000000  "
      ]
     },
     "execution_count": 4,
     "metadata": {},
     "output_type": "execute_result"
    }
   ],
   "source": [
    "# Mengecek korelasi pada daat X dan Y\n",
    "dataset.corr()"
   ]
  },
  {
   "cell_type": "markdown",
   "id": "8e7fffb4",
   "metadata": {},
   "source": [
    "#### Nilai -0.920063 menunjukkan bahwa variabel X dan Y tersebut berkorelasi negatif cukup kuat. "
   ]
  },
  {
   "cell_type": "code",
   "execution_count": 5,
   "id": "e35d8ca8",
   "metadata": {},
   "outputs": [],
   "source": [
    "# Split Kolom\n",
    "x_train = dataset['Corruption Perception (X)'].values[:,np.newaxis]\n",
    "y_train = dataset['Government Transparency (Y)'].values"
   ]
  },
  {
   "cell_type": "markdown",
   "id": "6ae09d26",
   "metadata": {},
   "source": [
    "#### x_train berisi data 'Corruption Perception (X)' sebagai variabel independen dan y_train akan berisi 'Government Transparency (Y)' sebagai variabel dependen"
   ]
  },
  {
   "cell_type": "code",
   "execution_count": 6,
   "id": "ce491237",
   "metadata": {},
   "outputs": [
    {
     "name": "stdout",
     "output_type": "stream",
     "text": [
      "[[3.2]\n",
      " [2.5]\n",
      " [4.1]\n",
      " [2.8]\n",
      " [3.5]\n",
      " [2.4]\n",
      " [3.9]\n",
      " [2.7]\n",
      " [3.8]\n",
      " [2.9]\n",
      " [4.2]\n",
      " [2.6]\n",
      " [3. ]\n",
      " [2.3]\n",
      " [4. ]\n",
      " [3.4]\n",
      " [2.2]\n",
      " [4.3]\n",
      " [3.3]\n",
      " [2.1]\n",
      " [4.4]\n",
      " [3.7]\n",
      " [2. ]\n",
      " [4.5]\n",
      " [3.6]\n",
      " [2.8]\n",
      " [4.2]\n",
      " [3.1]\n",
      " [2.7]\n",
      " [4.3]\n",
      " [3.9]\n",
      " [2.5]\n",
      " [4.4]\n",
      " [3. ]\n",
      " [2.6]\n",
      " [4.1]\n",
      " [3.2]\n",
      " [2.4]\n",
      " [4.5]\n",
      " [3.5]\n",
      " [2.9]\n",
      " [3.8]\n",
      " [2.3]\n",
      " [4. ]\n",
      " [3.4]\n",
      " [2.2]\n",
      " [4.4]\n",
      " [3.3]\n",
      " [2.1]\n",
      " [4.3]\n",
      " [3.7]\n",
      " [2. ]\n",
      " [4.5]\n",
      " [3.6]\n",
      " [2.8]]\n"
     ]
    }
   ],
   "source": [
    "# Menampilkan data pada x_train\n",
    "print (x_train)"
   ]
  },
  {
   "cell_type": "code",
   "execution_count": 7,
   "id": "dc278d72",
   "metadata": {},
   "outputs": [
    {
     "name": "stdout",
     "output_type": "stream",
     "text": [
      "[65 72 58 68 60 75 55 70 57 71 54 73 65 76 56 62 78 53 63 80 52 59 82 51\n",
      " 61 69 55 66 72 54 57 70 53 65 73 58 68 75 51 60 71 56 76 52 62 78 53 63\n",
      " 80 54 59 82 61 69 50]\n"
     ]
    }
   ],
   "source": [
    "# Menampilkan data pada y_train\n",
    "print (y_train)"
   ]
  },
  {
   "cell_type": "code",
   "execution_count": 8,
   "id": "841b0b8a",
   "metadata": {},
   "outputs": [
    {
     "data": {
      "text/html": [
       "<style>#sk-container-id-1 {color: black;background-color: white;}#sk-container-id-1 pre{padding: 0;}#sk-container-id-1 div.sk-toggleable {background-color: white;}#sk-container-id-1 label.sk-toggleable__label {cursor: pointer;display: block;width: 100%;margin-bottom: 0;padding: 0.3em;box-sizing: border-box;text-align: center;}#sk-container-id-1 label.sk-toggleable__label-arrow:before {content: \"▸\";float: left;margin-right: 0.25em;color: #696969;}#sk-container-id-1 label.sk-toggleable__label-arrow:hover:before {color: black;}#sk-container-id-1 div.sk-estimator:hover label.sk-toggleable__label-arrow:before {color: black;}#sk-container-id-1 div.sk-toggleable__content {max-height: 0;max-width: 0;overflow: hidden;text-align: left;background-color: #f0f8ff;}#sk-container-id-1 div.sk-toggleable__content pre {margin: 0.2em;color: black;border-radius: 0.25em;background-color: #f0f8ff;}#sk-container-id-1 input.sk-toggleable__control:checked~div.sk-toggleable__content {max-height: 200px;max-width: 100%;overflow: auto;}#sk-container-id-1 input.sk-toggleable__control:checked~label.sk-toggleable__label-arrow:before {content: \"▾\";}#sk-container-id-1 div.sk-estimator input.sk-toggleable__control:checked~label.sk-toggleable__label {background-color: #d4ebff;}#sk-container-id-1 div.sk-label input.sk-toggleable__control:checked~label.sk-toggleable__label {background-color: #d4ebff;}#sk-container-id-1 input.sk-hidden--visually {border: 0;clip: rect(1px 1px 1px 1px);clip: rect(1px, 1px, 1px, 1px);height: 1px;margin: -1px;overflow: hidden;padding: 0;position: absolute;width: 1px;}#sk-container-id-1 div.sk-estimator {font-family: monospace;background-color: #f0f8ff;border: 1px dotted black;border-radius: 0.25em;box-sizing: border-box;margin-bottom: 0.5em;}#sk-container-id-1 div.sk-estimator:hover {background-color: #d4ebff;}#sk-container-id-1 div.sk-parallel-item::after {content: \"\";width: 100%;border-bottom: 1px solid gray;flex-grow: 1;}#sk-container-id-1 div.sk-label:hover label.sk-toggleable__label {background-color: #d4ebff;}#sk-container-id-1 div.sk-serial::before {content: \"\";position: absolute;border-left: 1px solid gray;box-sizing: border-box;top: 0;bottom: 0;left: 50%;z-index: 0;}#sk-container-id-1 div.sk-serial {display: flex;flex-direction: column;align-items: center;background-color: white;padding-right: 0.2em;padding-left: 0.2em;position: relative;}#sk-container-id-1 div.sk-item {position: relative;z-index: 1;}#sk-container-id-1 div.sk-parallel {display: flex;align-items: stretch;justify-content: center;background-color: white;position: relative;}#sk-container-id-1 div.sk-item::before, #sk-container-id-1 div.sk-parallel-item::before {content: \"\";position: absolute;border-left: 1px solid gray;box-sizing: border-box;top: 0;bottom: 0;left: 50%;z-index: -1;}#sk-container-id-1 div.sk-parallel-item {display: flex;flex-direction: column;z-index: 1;position: relative;background-color: white;}#sk-container-id-1 div.sk-parallel-item:first-child::after {align-self: flex-end;width: 50%;}#sk-container-id-1 div.sk-parallel-item:last-child::after {align-self: flex-start;width: 50%;}#sk-container-id-1 div.sk-parallel-item:only-child::after {width: 0;}#sk-container-id-1 div.sk-dashed-wrapped {border: 1px dashed gray;margin: 0 0.4em 0.5em 0.4em;box-sizing: border-box;padding-bottom: 0.4em;background-color: white;}#sk-container-id-1 div.sk-label label {font-family: monospace;font-weight: bold;display: inline-block;line-height: 1.2em;}#sk-container-id-1 div.sk-label-container {text-align: center;}#sk-container-id-1 div.sk-container {/* jupyter's `normalize.less` sets `[hidden] { display: none; }` but bootstrap.min.css set `[hidden] { display: none !important; }` so we also need the `!important` here to be able to override the default hidden behavior on the sphinx rendered scikit-learn.org. See: https://github.com/scikit-learn/scikit-learn/issues/21755 */display: inline-block !important;position: relative;}#sk-container-id-1 div.sk-text-repr-fallback {display: none;}</style><div id=\"sk-container-id-1\" class=\"sk-top-container\"><div class=\"sk-text-repr-fallback\"><pre>LinearRegression()</pre><b>In a Jupyter environment, please rerun this cell to show the HTML representation or trust the notebook. <br />On GitHub, the HTML representation is unable to render, please try loading this page with nbviewer.org.</b></div><div class=\"sk-container\" hidden><div class=\"sk-item\"><div class=\"sk-estimator sk-toggleable\"><input class=\"sk-toggleable__control sk-hidden--visually\" id=\"sk-estimator-id-1\" type=\"checkbox\" checked><label for=\"sk-estimator-id-1\" class=\"sk-toggleable__label sk-toggleable__label-arrow\">LinearRegression</label><div class=\"sk-toggleable__content\"><pre>LinearRegression()</pre></div></div></div></div></div>"
      ],
      "text/plain": [
       "LinearRegression()"
      ]
     },
     "execution_count": 8,
     "metadata": {},
     "output_type": "execute_result"
    }
   ],
   "source": [
    "# Modelling\n",
    "lm = LinearRegression()\n",
    "lm.fit(x_train,y_train) "
   ]
  },
  {
   "cell_type": "code",
   "execution_count": 9,
   "id": "488aab6a",
   "metadata": {},
   "outputs": [
    {
     "name": "stdout",
     "output_type": "stream",
     "text": [
      "[77.33283736 57.67092624 51.11695587 72.96352377 58.76325463]\n"
     ]
    }
   ],
   "source": [
    "# Testing\n",
    "# Kode ini merupakan proses prediksi menggunakan model regresi linier (lm) yang telah dilatih sebelumnya.\n",
    "x_test = [[2.1],[3.9],[4.5],[2.5],[3.8]]\n",
    "predict = lm.predict(x_test)\n",
    "print(predict)"
   ]
  },
  {
   "cell_type": "code",
   "execution_count": 12,
   "id": "f6e14b10",
   "metadata": {},
   "outputs": [
    {
     "name": "stdout",
     "output_type": "stream",
     "text": [
      "Koefisien :[-10.92328395]\n",
      "Intercept :100.27173366009497\n"
     ]
    }
   ],
   "source": [
    "#Rumua regresi -> y = ax + b (a = koefisien, b = intercept)\n",
    "print('Koefisien :' + str(lm.coef_))\n",
    "print('Intercept :' +str(lm.intercept_))"
   ]
  },
  {
   "cell_type": "code",
   "execution_count": 17,
   "id": "b1fd4d86",
   "metadata": {},
   "outputs": [
    {
     "name": "stdout",
     "output_type": "stream",
     "text": [
      "[62.04023982]\n"
     ]
    }
   ],
   "source": [
    "# Testing Manual\n",
    "y = lm.coef_ * 3.5 + lm.intercept_\n",
    "print(y)"
   ]
  },
  {
   "cell_type": "markdown",
   "id": "f448fb27",
   "metadata": {},
   "source": [
    "#### prediksi untuk nilai 'Government Transparency' saat 'Corruption Perception' adalah 3.5 adalah 62.04023982"
   ]
  },
  {
   "cell_type": "code",
   "execution_count": 23,
   "id": "c29c9a9c",
   "metadata": {
    "scrolled": true
   },
   "outputs": [
    {
     "data": {
      "image/png": "[encoded data removed]",
      "text/plain": [
       "<Figure size 640x480 with 1 Axes>"
      ]
     },
     "metadata": {},
     "output_type": "display_data"
    }
   ],
   "source": [
    "# Proses Pembuatan Visualisai Data\n",
    "\n",
    "prediksibaru = lm.predict(x_train)\n",
    "dfBaru = pd.DataFrame({'Corruption Perception (X)' : dataset['Corruption Perception (X)'], 'Government Transparency (Y)':prediksibaru})\n",
    "plt.scatter(dataset['Corruption Perception (X)'], dataset['Government Transparency (Y)'])\n",
    "plt.plot(dfBaru['Corruption Perception (X)'], dfBaru['Government Transparency (Y)'], color = 'red', linewidth=1)\n",
    "plt.xlabel(\"Corruption Perception (X)\")\n",
    "plt.ylabel('Government Transparency (Y)')\n",
    "plt.title('Plot Regresi Data Corruption Perception dan Government Transparency')\n",
    "plt.show()"
   ]
  },
  {
   "cell_type": "markdown",
   "id": "ac05b072",
   "metadata": {},
   "source": [
    "### Cek Akurasi"
   ]
  },
  {
   "cell_type": "code",
   "execution_count": 21,
   "id": "bee42548",
   "metadata": {},
   "outputs": [
    {
     "name": "stdout",
     "output_type": "stream",
     "text": [
      "92.32578583480844\n"
     ]
    }
   ],
   "source": [
    "from sklearn.metrics import r2_score\n",
    "akurasi = r2_score(dataset,dfBaru)\n",
    "print(akurasi*100)"
   ]
  },
  {
   "cell_type": "code",
   "execution_count": null,
   "id": "5613fe8a",
   "metadata": {},
   "outputs": [],
   "source": []
  }
 ],
 "metadata": {
  "kernelspec": {
   "display_name": "Python 3 (ipykernel)",
   "language": "python",
   "name": "python3"
  },
  "language_info": {
   "codemirror_mode": {
    "name": "ipython",
    "version": 3
   },
   "file_extension": ".py",
   "mimetype": "text/x-python",
   "name": "python",
   "nbconvert_exporter": "python",
   "pygments_lexer": "ipython3",
   "version": "3.10.9"
  }
 },
 "nbformat": 4,
 "nbformat_minor": 5
}
